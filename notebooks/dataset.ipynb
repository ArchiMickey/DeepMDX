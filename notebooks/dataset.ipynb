{
 "cells": [
  {
   "cell_type": "code",
   "execution_count": 1,
   "metadata": {},
   "outputs": [
    {
     "name": "stdout",
     "output_type": "stream",
     "text": [
      "Mixing instruments...\n"
     ]
    },
    {
     "data": {
      "application/vnd.jupyter.widget-view+json": {
       "model_id": "f69547ca8b44412299288f722ffe603a",
       "version_major": 2,
       "version_minor": 0
      },
      "text/plain": [
       "  0%|          | 0/150 [00:00<?, ?it/s]"
      ]
     },
     "metadata": {},
     "output_type": "display_data"
    },
    {
     "name": "stdout",
     "output_type": "stream",
     "text": [
      "Copying mixtures...\n"
     ]
    },
    {
     "data": {
      "application/vnd.jupyter.widget-view+json": {
       "model_id": "eaed21c46b5140f9a73a166bda253b94",
       "version_major": 2,
       "version_minor": 0
      },
      "text/plain": [
       "  0%|          | 0/150 [00:00<?, ?it/s]"
      ]
     },
     "metadata": {},
     "output_type": "display_data"
    }
   ],
   "source": [
    "# preprocess MUSDB18-HQ data\n",
    "\n",
    "import glob\n",
    "import os\n",
    "import librosa\n",
    "import soundfile as sf\n",
    "from shutil import copyfile\n",
    "from tqdm import tqdm\n",
    "from tqdm.contrib.concurrent import process_map\n",
    "\n",
    "MUSDB18_DIR = \"/project/asc2022/plus/DeepMDX/data/raw/musdb18\"\n",
    "\n",
    "OUTPUT_DIR = \"/project/asc2022/plus/DeepMDX/data\"\n",
    "OUTPUT_INSTRUMENTS_DIR = f\"{OUTPUT_DIR}/instruments\"\n",
    "OUTPUT_MIXTURES_DIR = f\"{OUTPUT_DIR}/mixtures\"\n",
    "\n",
    "def mix_instruments(wavs_dir, output_path):\n",
    "    instruments = [\"bass\", \"drums\", \"other\"]\n",
    "    ins_wavs = []\n",
    "    for ins in instruments:\n",
    "        ins = f\"{wavs_dir}/{ins}.wav\"\n",
    "        ins, sr = librosa.load(ins)\n",
    "        ins_wavs.append(ins)\n",
    "    mix = sum(ins_wavs)\n",
    "    sf.write(output_path, mix, sr, \"PCM_16\")\n",
    "    \n",
    "def copy_mixture(wav_path):\n",
    "    music_name = wav_path.split(\"/\")[-2]\n",
    "    copyfile(wav_path, f\"{OUTPUT_MIXTURES_DIR}/{music_name}_mixture.wav\")\n",
    "\n",
    "def preprocess():\n",
    "    if not os.path.exists(OUTPUT_INSTRUMENTS_DIR):\n",
    "        os.makedirs(OUTPUT_INSTRUMENTS_DIR)\n",
    "    if not os.path.exists(OUTPUT_MIXTURES_DIR):\n",
    "        os.makedirs(OUTPUT_MIXTURES_DIR)\n",
    "    \n",
    "    print(\"Mixing instruments...\")\n",
    "    music_dirs = glob.glob(f\"{MUSDB18_DIR}/train/*\") + glob.glob(f\"{MUSDB18_DIR}/test/*\")\n",
    "    output_paths = [f\"{OUTPUT_INSTRUMENTS_DIR}/{d.split('/')[-1]}_instruments.wav\" for d in music_dirs]\n",
    "    process_map(mix_instruments, music_dirs, output_paths)\n",
    "    \n",
    "    print(\"Copying mixtures...\")\n",
    "    mixture_wavs = glob.glob(f\"{MUSDB18_DIR}/train/*/mixture.wav\") + glob.glob(f\"{MUSDB18_DIR}/test/*/mixture.wav\")\n",
    "    process_map(copy_mixture, mixture_wavs)\n",
    "\n",
    "preprocess()"
   ]
  },
  {
   "cell_type": "code",
   "execution_count": null,
   "metadata": {},
   "outputs": [],
   "source": []
  }
 ],
 "metadata": {
  "kernelspec": {
   "display_name": "Python 3 (ipykernel)",
   "language": "python",
   "name": "python3"
  },
  "language_info": {
   "codemirror_mode": {
    "name": "ipython",
    "version": 3
   },
   "file_extension": ".py",
   "mimetype": "text/x-python",
   "name": "python",
   "nbconvert_exporter": "python",
   "pygments_lexer": "ipython3",
   "version": "3.10.0"
  }
 },
 "nbformat": 4,
 "nbformat_minor": 4
}
